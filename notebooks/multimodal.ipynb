{
 "cells": [
  {
   "cell_type": "code",
   "execution_count": 1,
   "metadata": {},
   "outputs": [],
   "source": [
    "import os\n",
    "os.chdir('..')"
   ]
  },
  {
   "cell_type": "code",
   "execution_count": 2,
   "metadata": {},
   "outputs": [],
   "source": [
    "from src.multimodal.model import MultimodalModel\n",
    "from src.utils import get_lookup, load_pkl, get_labels\n",
    "from src.text.model.word_embedding import WordEmbedding\n",
    "from src.text.model.custom_dataset import CustomDataset\n",
    "from src.mol.preprocess import mapped_smiles_reader, candidate_smiles\n",
    "from src.mol.mol_dataset import MolDataset\n",
    "from src.multimodal.dataset import MultimodalDataset"
   ]
  },
  {
   "cell_type": "markdown",
   "metadata": {},
   "source": [
    "## Text"
   ]
  },
  {
   "cell_type": "code",
   "execution_count": 40,
   "metadata": {},
   "outputs": [],
   "source": [
    "lookup_word = get_lookup('cache/fasttext/nguyennb/all_words.txt')\n",
    "lookup_tag = get_lookup('cache/fasttext/nguyennb/all_pos.txt')\n",
    "lookup_dep = get_lookup('cache/fasttext/nguyennb/all_dep.txt')\n",
    "lookup_direction = get_lookup('cache/fasttext/nguyennb/all_direction.txt')\n",
    "\n",
    "all_candidates_train = load_pkl('cache/pkl/v1/candidates.train.pkl')\n",
    "all_candidates_test = load_pkl('cache/pkl/v1/candidates.test.pkl')\n",
    "sdp_train = load_pkl('cache/pkl/v1/sdp.train.pkl')\n",
    "sdp_test = load_pkl('cache/pkl/v1/sdp.test.pkl')\n",
    "sdp_train_mapped = load_pkl('cache/pkl/v1/train.mapped.sdp.pkl')\n",
    "sdp_test_mapped = load_pkl('cache/pkl/v1/test.mapped.sdp.pkl')\n",
    "we = WordEmbedding(fasttext_path='cache/fasttext/nguyennb/fastText_ddi.npz',\n",
    "                   vocab_path='cache/fasttext/nguyennb/all_words.txt')\n",
    "\n",
    "y_train = get_labels(all_candidates_train)\n",
    "y_test = get_labels(all_candidates_test)"
   ]
  },
  {
   "cell_type": "code",
   "execution_count": 41,
   "metadata": {},
   "outputs": [
    {
     "name": "stdout",
     "output_type": "stream",
     "text": [
      "WARNING: Exception at data 4942\n",
      "WARNING: Exception at data 27304\n",
      "WARNING: Exception at data 27533\n",
      "WARNING: Exception at data 5627\n"
     ]
    }
   ],
   "source": [
    "dataset_train_text = CustomDataset(sdp_train_mapped, y_train)\n",
    "dataset_train_text.fix_exception()\n",
    "dataset_train_text.batch_padding(batch_size=128, min_batch_size=3)\n",
    "dataset_train_text.squeeze()\n",
    "dataset_test_text = CustomDataset(sdp_test_mapped, y_test)\n",
    "dataset_test_text.fix_exception()\n",
    "dataset_test_text.batch_padding(batch_size=128, min_batch_size=3)\n",
    "dataset_test_text.squeeze()"
   ]
  },
  {
   "cell_type": "code",
   "execution_count": 42,
   "metadata": {},
   "outputs": [],
   "source": [
    "from torch.utils.data import DataLoader\n",
    "\n",
    "train_loader_text = DataLoader(dataset_train_text, batch_size=128)\n",
    "test_loader_text = DataLoader(dataset_test_text, batch_size=128)"
   ]
  },
  {
   "cell_type": "markdown",
   "metadata": {},
   "source": [
    "## Mol"
   ]
  },
  {
   "cell_type": "code",
   "execution_count": 6,
   "metadata": {},
   "outputs": [
    {
     "name": "stderr",
     "output_type": "stream",
     "text": [
      "Converting SMILES to PyG: 100%|██████████| 27792/27792 [00:15<00:00, 1800.89it/s]\n",
      "Converting SMILES to PyG: 100%|██████████| 27792/27792 [00:16<00:00, 1688.12it/s]\n",
      "Converting SMILES to PyG: 100%|██████████| 5716/5716 [00:03<00:00, 1886.37it/s]\n",
      "Converting SMILES to PyG: 100%|██████████| 5716/5716 [00:03<00:00, 1606.04it/s]\n"
     ]
    }
   ],
   "source": [
    "all_candidates_train = load_pkl('cache/pkl/v1/candidates.train.pkl')\n",
    "all_candidates_test = load_pkl('cache/pkl/v1/candidates.test.pkl')\n",
    "mapped_smiles = mapped_smiles_reader('cache/mapped_drugs/all_mapped.txt')\n",
    "x_train, y_train = candidate_smiles(all_candidates_train, mapped_smiles)\n",
    "x_test, y_test = candidate_smiles(all_candidates_test, mapped_smiles)\n",
    "dataset_train_mol1 = MolDataset(x_train, element=1)\n",
    "dataset_train_mol2 = MolDataset(x_train, element=2)\n",
    "dataset_test_mol1 = MolDataset(x_test, element=1)\n",
    "dataset_test_mol1 = MolDataset(x_test, element=2)"
   ]
  },
  {
   "cell_type": "code",
   "execution_count": 7,
   "metadata": {},
   "outputs": [],
   "source": [
    "from torch_geometric.loader import DataLoader\n",
    "train_loader_mol1 = DataLoader(dataset_train_mol1, batch_size=128, shuffle=False)\n",
    "train_loader_mol2 = DataLoader(dataset_train_mol2, batch_size=128, shuffle=False)"
   ]
  },
  {
   "cell_type": "markdown",
   "metadata": {},
   "source": [
    "## Training"
   ]
  },
  {
   "cell_type": "code",
   "execution_count": 8,
   "metadata": {},
   "outputs": [],
   "source": [
    "model = MultimodalModel(we)"
   ]
  },
  {
   "cell_type": "code",
   "execution_count": 46,
   "metadata": {},
   "outputs": [
    {
     "name": "stdout",
     "output_type": "stream",
     "text": [
      "tensor([[2.0715e-01, 2.1703e-01, 1.9849e-01, 1.8952e-01, 1.8782e-01],\n",
      "        [2.0374e-01, 1.9408e-01, 1.9999e-01, 2.1135e-01, 1.9084e-01],\n",
      "        [1.9544e-01, 2.0012e-01, 1.9868e-01, 2.1950e-01, 1.8626e-01],\n",
      "        [1.9030e-01, 2.0838e-01, 1.9673e-01, 2.1009e-01, 1.9450e-01],\n",
      "        [1.9599e-01, 2.2345e-01, 1.8425e-01, 2.1735e-01, 1.7896e-01],\n",
      "        [1.9067e-01, 1.9614e-01, 2.0502e-01, 2.1093e-01, 1.9724e-01],\n",
      "        [1.7989e-01, 2.0981e-01, 1.9814e-01, 2.1353e-01, 1.9862e-01],\n",
      "        [1.8959e-01, 2.2152e-01, 1.8271e-01, 2.0894e-01, 1.9724e-01],\n",
      "        [1.8666e-01, 2.0617e-01, 2.0112e-01, 2.0627e-01, 1.9978e-01],\n",
      "        [1.9199e-01, 2.3025e-01, 1.8386e-01, 2.0527e-01, 1.8863e-01],\n",
      "        [2.0334e-01, 2.3519e-01, 1.8438e-01, 1.9825e-01, 1.7884e-01],\n",
      "        [2.1304e-01, 2.3446e-01, 1.9090e-01, 1.7903e-01, 1.8256e-01],\n",
      "        [1.9728e-01, 2.5404e-01, 1.8426e-01, 1.9598e-01, 1.6843e-01],\n",
      "        [1.9924e-01, 2.6227e-01, 1.7634e-01, 1.9521e-01, 1.6693e-01],\n",
      "        [1.8753e-01, 2.6819e-01, 1.7998e-01, 1.9520e-01, 1.6910e-01],\n",
      "        [2.1241e-01, 2.6501e-01, 1.5638e-01, 1.8099e-01, 1.8521e-01],\n",
      "        [2.1282e-01, 2.6928e-01, 1.5218e-01, 1.8060e-01, 1.8512e-01],\n",
      "        [7.2622e-02, 1.6046e-01, 1.8679e-02, 2.1962e-02, 7.2627e-01],\n",
      "        [2.2269e-01, 2.6846e-01, 1.5131e-01, 1.7747e-01, 1.8006e-01],\n",
      "        [2.1100e-01, 2.8088e-01, 1.4007e-01, 1.8534e-01, 1.8271e-01],\n",
      "        [2.1158e-01, 2.8330e-01, 1.4330e-01, 1.8195e-01, 1.7987e-01],\n",
      "        [2.0207e-01, 3.1531e-01, 1.2967e-01, 1.9247e-01, 1.6047e-01],\n",
      "        [2.0296e-01, 1.9568e-01, 2.0367e-01, 2.0896e-01, 1.8873e-01],\n",
      "        [1.9456e-01, 2.0148e-01, 1.9919e-01, 2.1541e-01, 1.8937e-01],\n",
      "        [1.7575e-01, 2.0623e-01, 2.1834e-01, 2.1356e-01, 1.8612e-01],\n",
      "        [2.0054e-01, 2.0355e-01, 1.8526e-01, 1.9886e-01, 2.1180e-01],\n",
      "        [2.0727e-01, 2.1527e-01, 1.8625e-01, 1.9093e-01, 2.0028e-01],\n",
      "        [1.7697e-01, 5.3311e-01, 1.5855e-01, 3.5466e-03, 1.2783e-01],\n",
      "        [2.0949e-01, 2.0976e-01, 1.6468e-01, 2.0599e-01, 2.1008e-01],\n",
      "        [2.0025e-01, 2.2289e-01, 1.6497e-01, 2.0406e-01, 2.0783e-01],\n",
      "        [1.9980e-01, 2.2111e-01, 1.5872e-01, 2.1166e-01, 2.0870e-01],\n",
      "        [1.8747e-01, 2.4936e-01, 1.6060e-01, 2.1927e-01, 1.8330e-01],\n",
      "        [1.9067e-01, 1.9614e-01, 2.0502e-01, 2.1093e-01, 1.9724e-01],\n",
      "        [1.7246e-01, 2.1027e-01, 2.1439e-01, 2.1384e-01, 1.8904e-01],\n",
      "        [2.0032e-01, 1.9890e-01, 1.8793e-01, 1.9589e-01, 2.1697e-01],\n",
      "        [2.0276e-01, 2.1509e-01, 1.8654e-01, 1.8470e-01, 2.1091e-01],\n",
      "        [8.2651e-01, 1.7142e-02, 4.6206e-02, 2.8193e-02, 8.1952e-02],\n",
      "        [2.0068e-01, 2.1494e-01, 1.6698e-01, 2.0139e-01, 2.1601e-01],\n",
      "        [2.0267e-01, 2.1878e-01, 1.6725e-01, 2.0612e-01, 2.0519e-01],\n",
      "        [1.9209e-01, 2.2957e-01, 1.6436e-01, 2.0368e-01, 2.1030e-01],\n",
      "        [1.7704e-01, 2.4934e-01, 1.6158e-01, 2.2466e-01, 1.8737e-01],\n",
      "        [1.8164e-01, 2.0667e-01, 2.1559e-01, 2.0984e-01, 1.8626e-01],\n",
      "        [2.0253e-01, 1.9879e-01, 1.8726e-01, 1.9531e-01, 2.1610e-01],\n",
      "        [1.9628e-01, 2.0525e-01, 1.8608e-01, 1.8892e-01, 2.2348e-01],\n",
      "        [2.0489e-01, 7.3005e-03, 1.0562e-01, 5.1286e-03, 6.7706e-01],\n",
      "        [1.9644e-01, 2.0932e-01, 1.8152e-01, 2.0110e-01, 2.1163e-01],\n",
      "        [1.9646e-01, 2.2085e-01, 1.6770e-01, 2.0437e-01, 2.1062e-01],\n",
      "        [1.9374e-01, 2.1609e-01, 1.6305e-01, 2.1063e-01, 2.1649e-01],\n",
      "        [1.7845e-01, 2.4112e-01, 1.6403e-01, 2.2310e-01, 1.9330e-01],\n",
      "        [1.9100e-01, 2.0001e-01, 2.0569e-01, 1.9748e-01, 2.0583e-01],\n",
      "        [1.9048e-01, 2.0015e-01, 1.9543e-01, 2.0433e-01, 2.0962e-01],\n",
      "        [4.3247e-01, 4.5977e-03, 6.0508e-02, 4.1991e-02, 4.6043e-01],\n",
      "        [2.0268e-01, 2.1058e-01, 1.8513e-01, 1.9620e-01, 2.0541e-01],\n",
      "        [1.9923e-01, 2.1756e-01, 1.7888e-01, 2.0038e-01, 2.0395e-01],\n",
      "        [2.0094e-01, 2.1687e-01, 1.7249e-01, 2.0535e-01, 2.0436e-01],\n",
      "        [1.8643e-01, 2.4142e-01, 1.6997e-01, 2.1652e-01, 1.8566e-01],\n",
      "        [2.0991e-01, 1.7998e-01, 2.0844e-01, 1.8685e-01, 2.1481e-01],\n",
      "        [2.0945e-01, 2.8129e-02, 1.0651e-01, 2.9735e-02, 6.2618e-01],\n",
      "        [2.0019e-01, 2.0153e-01, 1.9241e-01, 1.9693e-01, 2.0894e-01],\n",
      "        [1.9853e-01, 1.9966e-01, 1.8863e-01, 1.9626e-01, 2.1692e-01],\n",
      "        [1.9696e-01, 2.0217e-01, 1.8018e-01, 2.0413e-01, 2.1656e-01],\n",
      "        [1.8766e-01, 2.2534e-01, 1.7718e-01, 2.2172e-01, 1.8809e-01],\n",
      "        [8.6050e-01, 1.7808e-02, 8.9423e-02, 8.0367e-03, 2.4228e-02],\n",
      "        [2.0759e-01, 1.8075e-01, 1.8731e-01, 1.9789e-01, 2.2646e-01],\n",
      "        [2.0061e-01, 1.8866e-01, 1.8499e-01, 2.0630e-01, 2.1944e-01],\n",
      "        [1.9645e-01, 2.0008e-01, 1.7820e-01, 2.0670e-01, 2.1857e-01],\n",
      "        [1.8692e-01, 2.1606e-01, 1.7891e-01, 2.2118e-01, 1.9693e-01],\n",
      "        [1.6521e-01, 3.7712e-02, 4.0815e-02, 9.6225e-03, 7.4664e-01],\n",
      "        [1.3422e-01, 5.3178e-01, 7.3897e-02, 2.1551e-01, 4.4591e-02],\n",
      "        [1.8741e-01, 1.7208e-04, 3.0618e-03, 8.0697e-01, 2.3876e-03],\n",
      "        [9.8874e-01, 3.4093e-04, 1.7484e-03, 7.4360e-03, 1.7379e-03],\n",
      "        [2.1791e-01, 1.8424e-01, 1.9436e-01, 1.9821e-01, 2.0528e-01],\n",
      "        [2.0460e-01, 1.9061e-01, 2.0057e-01, 1.9090e-01, 2.1331e-01],\n",
      "        [1.9302e-01, 2.0881e-01, 1.9040e-01, 2.1440e-01, 1.9338e-01],\n",
      "        [1.9438e-01, 1.8248e-01, 1.9868e-01, 1.9808e-01, 2.2638e-01],\n",
      "        [1.9364e-01, 2.0555e-01, 1.9126e-01, 2.1466e-01, 1.9489e-01],\n",
      "        [1.9998e-01, 1.9123e-01, 2.0037e-01, 2.1189e-01, 1.9653e-01],\n",
      "        [1.8421e-01, 2.0861e-01, 2.1183e-01, 2.1517e-01, 1.8017e-01],\n",
      "        [1.6184e-01, 2.6956e-01, 1.6655e-01, 2.2732e-01, 1.7472e-01],\n",
      "        [1.6527e-01, 2.7549e-01, 1.6654e-01, 2.2055e-01, 1.7215e-01],\n",
      "        [1.8285e-01, 2.1206e-01, 1.9901e-01, 2.1149e-01, 1.9458e-01],\n",
      "        [1.9091e-01, 2.0269e-01, 2.0558e-01, 2.1530e-01, 1.8552e-01],\n",
      "        [2.0135e-01, 1.8615e-01, 1.9867e-01, 1.9111e-01, 2.2273e-01],\n",
      "        [1.7822e-01, 2.1064e-01, 2.0604e-01, 2.0889e-01, 1.9621e-01],\n",
      "        [1.7310e-01, 2.2354e-01, 1.8961e-01, 2.1970e-01, 1.9405e-01],\n",
      "        [1.9747e-01, 2.3015e-01, 1.8301e-01, 2.0141e-01, 1.8795e-01],\n",
      "        [2.1330e-01, 2.4358e-01, 1.4821e-01, 1.8081e-01, 2.1410e-01],\n",
      "        [1.8506e-01, 2.4669e-01, 1.5969e-01, 1.9912e-01, 2.0944e-01],\n",
      "        [1.8827e-01, 2.5008e-01, 1.5564e-01, 1.9505e-01, 2.1096e-01],\n",
      "        [1.9107e-01, 2.0825e-01, 2.1052e-01, 2.0222e-01, 1.8793e-01],\n",
      "        [1.7399e-01, 2.1688e-01, 2.0191e-01, 2.1673e-01, 1.9049e-01],\n",
      "        [2.0272e-01, 2.2220e-01, 1.8114e-01, 2.1129e-01, 1.8266e-01],\n",
      "        [2.1050e-01, 2.3232e-01, 1.7564e-01, 1.9808e-01, 1.8346e-01],\n",
      "        [1.8658e-01, 2.4303e-01, 1.6881e-01, 2.0046e-01, 2.0112e-01],\n",
      "        [1.8656e-01, 2.5975e-01, 1.5700e-01, 1.9678e-01, 1.9991e-01],\n",
      "        [1.7313e-01, 2.2164e-01, 2.0167e-01, 2.1625e-01, 1.8732e-01],\n",
      "        [1.9284e-01, 2.3713e-01, 1.8014e-01, 2.0530e-01, 1.8459e-01],\n",
      "        [2.1499e-01, 2.4438e-01, 1.6523e-01, 1.8367e-01, 1.9173e-01],\n",
      "        [1.9248e-01, 2.5834e-01, 1.5926e-01, 1.8213e-01, 2.0780e-01],\n",
      "        [1.9456e-01, 2.7208e-01, 1.4560e-01, 1.9291e-01, 1.9485e-01],\n",
      "        [2.0140e-01, 2.4364e-01, 1.8388e-01, 1.9924e-01, 1.7185e-01],\n",
      "        [2.2338e-01, 2.2214e-01, 1.7462e-01, 1.8701e-01, 1.9284e-01],\n",
      "        [2.1623e-01, 2.5610e-01, 1.4676e-01, 1.8599e-01, 1.9492e-01],\n",
      "        [2.2342e-01, 2.7053e-01, 1.4668e-01, 1.8244e-01, 1.7693e-01],\n",
      "        [1.9674e-01, 2.0710e-01, 1.9452e-01, 1.9344e-01, 2.0820e-01],\n",
      "        [2.0002e-01, 2.0989e-01, 1.7997e-01, 2.0507e-01, 2.0504e-01],\n",
      "        [2.0258e-01, 2.2402e-01, 1.7068e-01, 2.0542e-01, 1.9730e-01],\n",
      "        [2.0714e-01, 1.7409e-01, 2.0909e-01, 1.9914e-01, 2.1054e-01],\n",
      "        [2.2374e-01, 1.9896e-01, 1.9267e-01, 1.7857e-01, 2.0605e-01],\n",
      "        [2.1756e-01, 1.8667e-01, 1.8893e-01, 1.9432e-01, 2.1252e-01],\n",
      "        [1.9699e-01, 1.9780e-01, 1.9779e-01, 2.1459e-01, 1.9283e-01],\n",
      "        [1.9147e-01, 2.0777e-01, 1.9535e-01, 2.1281e-01, 1.9260e-01],\n",
      "        [1.8096e-01, 2.1241e-01, 2.0168e-01, 2.1660e-01, 1.8835e-01],\n",
      "        [1.9164e-01, 1.9862e-01, 2.0255e-01, 2.1354e-01, 1.9365e-01],\n",
      "        [1.7988e-01, 2.0920e-01, 2.0400e-01, 2.1489e-01, 1.9203e-01],\n",
      "        [1.8600e-01, 2.0190e-01, 2.0436e-01, 2.1021e-01, 1.9754e-01],\n",
      "        [1.8170e-01, 2.0232e-01, 2.0035e-01, 2.0764e-01, 2.0798e-01],\n",
      "        [2.0947e-01, 1.8780e-01, 2.1178e-01, 1.8885e-01, 2.0211e-01],\n",
      "        [2.0138e-01, 2.1605e-01, 1.8742e-01, 1.7672e-01, 2.1843e-01],\n",
      "        [2.0952e-01, 2.0356e-01, 1.9095e-01, 1.9439e-01, 2.0158e-01],\n",
      "        [2.0384e-01, 2.0068e-01, 1.7729e-01, 2.1247e-01, 2.0572e-01],\n",
      "        [1.9883e-01, 2.2717e-01, 1.8383e-01, 1.8146e-01, 2.0872e-01],\n",
      "        [2.1907e-01, 1.7774e-01, 1.9589e-01, 1.8345e-01, 2.2386e-01],\n",
      "        [2.3574e-01, 1.8445e-01, 1.9731e-01, 1.7839e-01, 2.0411e-01],\n",
      "        [2.1280e-01, 2.1678e-01, 1.9386e-01, 1.8864e-01, 1.8792e-01],\n",
      "        [1.9522e-01, 2.1562e-01, 2.0627e-01, 1.8933e-01, 1.9356e-01],\n",
      "        [2.0572e-01, 1.8982e-01, 2.1570e-01, 1.9090e-01, 1.9785e-01],\n",
      "        [2.0647e-01, 2.4148e-01, 1.7640e-01, 1.8274e-01, 1.9290e-01]],\n",
      "       grad_fn=<SoftmaxBackward0>)\n"
     ]
    }
   ],
   "source": [
    "for ((a, batch_label), b, c) in zip(train_loader_text, train_loader_mol1, train_loader_mol2):\n",
    "    print(model(a, b, c))\n",
    "    break"
   ]
  },
  {
   "cell_type": "code",
   "execution_count": null,
   "metadata": {},
   "outputs": [],
   "source": []
  }
 ],
 "metadata": {
  "kernelspec": {
   "display_name": "Python 3",
   "language": "python",
   "name": "python3"
  },
  "language_info": {
   "codemirror_mode": {
    "name": "ipython",
    "version": 3
   },
   "file_extension": ".py",
   "mimetype": "text/x-python",
   "name": "python",
   "nbconvert_exporter": "python",
   "pygments_lexer": "ipython3",
   "version": "3.10.13"
  }
 },
 "nbformat": 4,
 "nbformat_minor": 2
}
