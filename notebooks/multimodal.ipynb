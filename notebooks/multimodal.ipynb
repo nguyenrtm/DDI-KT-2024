{
 "cells": [
  {
   "cell_type": "code",
   "execution_count": 1,
   "metadata": {},
   "outputs": [],
   "source": [
    "import os\n",
    "os.chdir('..')"
   ]
  },
  {
   "cell_type": "code",
   "execution_count": 2,
   "metadata": {},
   "outputs": [
    {
     "name": "stderr",
     "output_type": "stream",
     "text": [
      "/home/codespace/.python/current/lib/python3.10/site-packages/tqdm/auto.py:21: TqdmWarning: IProgress not found. Please update jupyter and ipywidgets. See https://ipywidgets.readthedocs.io/en/stable/user_install.html\n",
      "  from .autonotebook import tqdm as notebook_tqdm\n",
      "2024-03-04 03:59:57,436 - INFO - Enabling RDKit 2023.09.5 jupyter extensions\n",
      "2024-03-04 03:59:58,068 - DEBUG - matplotlib data path: /home/codespace/.local/lib/python3.10/site-packages/matplotlib/mpl-data\n",
      "2024-03-04 03:59:58,074 - DEBUG - CONFIGDIR=/home/codespace/.config/matplotlib\n",
      "2024-03-04 03:59:58,077 - DEBUG - interactive is False\n",
      "2024-03-04 03:59:58,078 - DEBUG - platform is linux\n",
      "2024-03-04 03:59:58,094 - DEBUG - CACHEDIR=/home/codespace/.cache/matplotlib\n",
      "2024-03-04 03:59:58,096 - DEBUG - Using fontManager instance from /home/codespace/.cache/matplotlib/fontlist-v330.json\n",
      "2024-03-04 03:59:59,304 - DEBUG - Popen(['git', 'version'], cwd=/workspaces/DDI-KT-2024, stdin=None, shell=False, universal_newlines=False)\n",
      "2024-03-04 03:59:59,311 - DEBUG - Popen(['git', 'version'], cwd=/workspaces/DDI-KT-2024, stdin=None, shell=False, universal_newlines=False)\n",
      "2024-03-04 03:59:59,328 - DEBUG - Trying paths: ['/home/codespace/.docker/config.json', '/home/codespace/.dockercfg']\n",
      "2024-03-04 03:59:59,330 - DEBUG - Found file at path: /home/codespace/.docker/config.json\n",
      "2024-03-04 03:59:59,331 - DEBUG - Found 'auths' section\n",
      "2024-03-04 03:59:59,333 - DEBUG - Found entry (registry='docker.pkg.github.com', username='USERNAME')\n",
      "2024-03-04 03:59:59,334 - DEBUG - Found entry (registry='ghcr.io', username='nguyenrtm')\n",
      "2024-03-04 03:59:59,335 - DEBUG - Found entry (registry='https://index.docker.io/v1/', username='codespacesdev')\n",
      "2024-03-04 03:59:59,438 - DEBUG - [Tracing] Create new propagation context: {'trace_id': '78d67a7e9314437f90805d0348358950', 'span_id': '9e60b3c50ee06f78', 'parent_span_id': None, 'dynamic_sampling_context': None}\n"
     ]
    }
   ],
   "source": [
    "from ddi_kt_2024.multimodal.model import MultimodalModel\n",
    "from ddi_kt_2024.utils import get_lookup, load_pkl, get_labels\n",
    "from ddi_kt_2024.text.model.word_embedding import WordEmbedding\n",
    "from ddi_kt_2024.text.model.custom_dataset import BertEmbeddingDataset\n",
    "from ddi_kt_2024.mol.preprocess import mapped_smiles_reader, candidate_smiles\n",
    "from ddi_kt_2024.mol.mol_dataset import MolDataset\n",
    "from ddi_kt_2024.multimodal.dataset import MultimodalDataset\n",
    "from ddi_kt_2024.multimodal.trainer import Trainer\n",
    "from ddi_kt_2024.mol.gnn import GNN"
   ]
  },
  {
   "cell_type": "code",
   "execution_count": null,
   "metadata": {},
   "outputs": [],
   "source": []
  }
 ],
 "metadata": {
  "kernelspec": {
   "display_name": "Python 3",
   "language": "python",
   "name": "python3"
  },
  "language_info": {
   "codemirror_mode": {
    "name": "ipython",
    "version": 3
   },
   "file_extension": ".py",
   "mimetype": "text/x-python",
   "name": "python",
   "nbconvert_exporter": "python",
   "pygments_lexer": "ipython3",
   "version": "3.10.13"
  }
 },
 "nbformat": 4,
 "nbformat_minor": 2
}
