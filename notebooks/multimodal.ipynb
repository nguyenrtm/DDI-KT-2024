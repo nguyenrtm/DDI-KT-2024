{
 "cells": [
  {
   "cell_type": "code",
   "execution_count": 1,
   "metadata": {},
   "outputs": [],
   "source": [
    "import os\n",
    "os.chdir('..')"
   ]
  },
  {
   "cell_type": "code",
   "execution_count": 2,
   "metadata": {},
   "outputs": [],
   "source": [
    "from src.multimodal.model import MultimodalModel\n",
    "from src.utils import get_lookup, load_pkl, get_labels\n",
    "from src.text.model.word_embedding import WordEmbedding\n",
    "from src.text.model.custom_dataset import CustomDataset\n",
    "from src.mol.preprocess import mapped_smiles_reader, candidate_smiles\n",
    "from src.mol.mol_dataset import MolDataset\n",
    "from src.multimodal.dataset import MultimodalDataset"
   ]
  },
  {
   "cell_type": "markdown",
   "metadata": {},
   "source": [
    "## Text"
   ]
  },
  {
   "cell_type": "code",
   "execution_count": 4,
   "metadata": {},
   "outputs": [],
   "source": [
    "lookup_word = get_lookup('cache/fasttext/nguyennb/all_words.txt')\n",
    "lookup_tag = get_lookup('cache/fasttext/nguyennb/all_pos.txt')\n",
    "lookup_dep = get_lookup('cache/fasttext/nguyennb/all_dep.txt')\n",
    "lookup_direction = get_lookup('cache/fasttext/nguyennb/all_direction.txt')\n",
    "\n",
    "all_candidates_train = load_pkl('cache/pkl/v1/candidates.train.pkl')\n",
    "all_candidates_test = load_pkl('cache/pkl/v1/candidates.test.pkl')\n",
    "sdp_train = load_pkl('cache/pkl/v1/sdp.train.pkl')\n",
    "sdp_test = load_pkl('cache/pkl/v1/sdp.test.pkl')\n",
    "sdp_train_mapped = load_pkl('cache/pkl/v1/train.mapped.sdp.pkl')\n",
    "sdp_test_mapped = load_pkl('cache/pkl/v1/test.mapped.sdp.pkl')\n",
    "we = WordEmbedding(fasttext_path='cache/fasttext/nguyennb/fastText_ddi.npz',\n",
    "                   vocab_path='cache/fasttext/nguyennb/all_words.txt')\n",
    "\n",
    "y_train = get_labels(all_candidates_train)\n",
    "y_test = get_labels(all_candidates_test)"
   ]
  },
  {
   "cell_type": "code",
   "execution_count": 41,
   "metadata": {},
   "outputs": [
    {
     "name": "stdout",
     "output_type": "stream",
     "text": [
      "WARNING: Exception at data 4942\n",
      "WARNING: Exception at data 27304\n",
      "WARNING: Exception at data 27533\n",
      "WARNING: Exception at data 5627\n"
     ]
    }
   ],
   "source": [
    "dataset_train_text = CustomDataset(sdp_train_mapped, y_train)\n",
    "dataset_train_text.fix_exception()\n",
    "dataset_train_text.batch_padding(batch_size=128, min_batch_size=3)\n",
    "dataset_train_text.squeeze()\n",
    "dataset_test_text = CustomDataset(sdp_test_mapped, y_test)\n",
    "dataset_test_text.fix_exception()\n",
    "dataset_test_text.batch_padding(batch_size=128, min_batch_size=3)\n",
    "dataset_test_text.squeeze()"
   ]
  },
  {
   "cell_type": "code",
   "execution_count": 42,
   "metadata": {},
   "outputs": [],
   "source": [
    "from torch.utils.data import DataLoader\n",
    "\n",
    "train_loader_text = DataLoader(dataset_train_text, batch_size=128)\n",
    "test_loader_text = DataLoader(dataset_test_text, batch_size=128)"
   ]
  },
  {
   "cell_type": "markdown",
   "metadata": {},
   "source": [
    "## Mol"
   ]
  },
  {
   "cell_type": "code",
   "execution_count": 6,
   "metadata": {},
   "outputs": [
    {
     "name": "stderr",
     "output_type": "stream",
     "text": [
      "Converting SMILES to PyG: 100%|██████████| 27792/27792 [00:15<00:00, 1800.89it/s]\n",
      "Converting SMILES to PyG: 100%|██████████| 27792/27792 [00:16<00:00, 1688.12it/s]\n",
      "Converting SMILES to PyG: 100%|██████████| 5716/5716 [00:03<00:00, 1886.37it/s]\n",
      "Converting SMILES to PyG: 100%|██████████| 5716/5716 [00:03<00:00, 1606.04it/s]\n"
     ]
    }
   ],
   "source": [
    "all_candidates_train = load_pkl('cache/pkl/v1/candidates.train.pkl')\n",
    "all_candidates_test = load_pkl('cache/pkl/v1/candidates.test.pkl')\n",
    "mapped_smiles = mapped_smiles_reader('cache/mapped_drugs/all_mapped.txt')\n",
    "x_train, y_train = candidate_smiles(all_candidates_train, mapped_smiles)\n",
    "x_test, y_test = candidate_smiles(all_candidates_test, mapped_smiles)\n",
    "dataset_train_mol1 = MolDataset(x_train, element=1)\n",
    "dataset_train_mol2 = MolDataset(x_train, element=2)\n",
    "dataset_test_mol1 = MolDataset(x_test, element=1)\n",
    "dataset_test_mol1 = MolDataset(x_test, element=2)"
   ]
  },
  {
   "cell_type": "code",
   "execution_count": 7,
   "metadata": {},
   "outputs": [],
   "source": [
    "from torch_geometric.loader import DataLoader\n",
    "train_loader_mol1 = DataLoader(dataset_train_mol1, batch_size=128, shuffle=False)\n",
    "train_loader_mol2 = DataLoader(dataset_train_mol2, batch_size=128, shuffle=False)"
   ]
  },
  {
   "cell_type": "markdown",
   "metadata": {},
   "source": [
    "## Training"
   ]
  },
  {
   "cell_type": "code",
   "execution_count": 5,
   "metadata": {},
   "outputs": [],
   "source": [
    "model = MultimodalModel(we)"
   ]
  },
  {
   "cell_type": "code",
   "execution_count": 6,
   "metadata": {},
   "outputs": [
    {
     "name": "stdout",
     "output_type": "stream",
     "text": [
      "5997788\n"
     ]
    }
   ],
   "source": [
    "total_params = sum(p.numel() for p in model.parameters())\n",
    "print(total_params)"
   ]
  },
  {
   "cell_type": "code",
   "execution_count": null,
   "metadata": {},
   "outputs": [],
   "source": []
  }
 ],
 "metadata": {
  "kernelspec": {
   "display_name": "Python 3",
   "language": "python",
   "name": "python3"
  },
  "language_info": {
   "codemirror_mode": {
    "name": "ipython",
    "version": 3
   },
   "file_extension": ".py",
   "mimetype": "text/x-python",
   "name": "python",
   "nbconvert_exporter": "python",
   "pygments_lexer": "ipython3",
   "version": "3.10.13"
  }
 },
 "nbformat": 4,
 "nbformat_minor": 2
}
