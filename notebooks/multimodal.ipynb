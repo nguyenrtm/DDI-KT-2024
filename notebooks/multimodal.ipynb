{
 "cells": [
  {
   "cell_type": "code",
   "execution_count": 1,
   "metadata": {},
   "outputs": [],
   "source": [
    "import os\n",
    "os.chdir('..')"
   ]
  },
  {
   "cell_type": "code",
   "execution_count": 2,
   "metadata": {},
   "outputs": [],
   "source": [
    "from src.multimodal.model import MultimodalModel\n",
    "from src.utils import get_lookup, load_pkl, get_labels\n",
    "from src.text.model.word_embedding import WordEmbedding\n",
    "from src.text.model.custom_dataset import CustomDataset\n",
    "from src.mol.preprocess import mapped_smiles_reader, candidate_smiles\n",
    "from src.mol.mol_dataset import MolDataset\n",
    "from src.multimodal.dataset import MultimodalDataset"
   ]
  },
  {
   "cell_type": "markdown",
   "metadata": {},
   "source": [
    "## Text"
   ]
  },
  {
   "cell_type": "code",
   "execution_count": 3,
   "metadata": {},
   "outputs": [],
   "source": [
    "lookup_word = get_lookup('cache/fasttext/nguyennb/all_words.txt')\n",
    "lookup_tag = get_lookup('cache/fasttext/nguyennb/all_pos.txt')\n",
    "lookup_dep = get_lookup('cache/fasttext/nguyennb/all_dep.txt')\n",
    "lookup_direction = get_lookup('cache/fasttext/nguyennb/all_direction.txt')\n",
    "\n",
    "all_candidates_train = load_pkl('cache/pkl/v1/candidates.train.pkl')\n",
    "all_candidates_test = load_pkl('cache/pkl/v1/candidates.test.pkl')\n",
    "sdp_train = load_pkl('cache/pkl/v1/sdp.train.pkl')\n",
    "sdp_test = load_pkl('cache/pkl/v1/sdp.test.pkl')\n",
    "sdp_train_mapped = load_pkl('cache/pkl/v1/train.mapped.sdp.pkl')\n",
    "sdp_test_mapped = load_pkl('cache/pkl/v1/test.mapped.sdp.pkl')\n",
    "we = WordEmbedding(fasttext_path='cache/fasttext/nguyennb/fastText_ddi.npz',\n",
    "                   vocab_path='cache/fasttext/nguyennb/all_words.txt')\n",
    "\n",
    "y_train = get_labels(all_candidates_train)\n",
    "y_test = get_labels(all_candidates_test)"
   ]
  },
  {
   "cell_type": "code",
   "execution_count": 4,
   "metadata": {},
   "outputs": [
    {
     "name": "stdout",
     "output_type": "stream",
     "text": [
      "WARNING: Exception at data 4942\n",
      "WARNING: Exception at data 27304\n",
      "WARNING: Exception at data 27533\n",
      "WARNING: Exception at data 5627\n"
     ]
    }
   ],
   "source": [
    "dataset_train_text = CustomDataset(sdp_train_mapped, y_train)\n",
    "dataset_train_text.fix_exception()\n",
    "dataset_train_text.batch_padding(batch_size=1)\n",
    "\n",
    "dataset_test_text = CustomDataset(sdp_test_mapped, y_test)\n",
    "dataset_test_text.fix_exception()\n",
    "dataset_test_text.batch_padding(batch_size=1)"
   ]
  },
  {
   "cell_type": "markdown",
   "metadata": {},
   "source": [
    "## Mol"
   ]
  },
  {
   "cell_type": "code",
   "execution_count": 5,
   "metadata": {},
   "outputs": [
    {
     "name": "stderr",
     "output_type": "stream",
     "text": [
      "Converting SMILES to PyG: 100%|██████████| 27792/27792 [00:30<00:00, 925.46it/s] \n",
      "Converting SMILES to PyG: 100%|██████████| 5716/5716 [00:06<00:00, 904.91it/s] \n"
     ]
    }
   ],
   "source": [
    "all_candidates_train = load_pkl('cache/pkl/v1/candidates.train.pkl')\n",
    "all_candidates_test = load_pkl('cache/pkl/v1/candidates.test.pkl')\n",
    "mapped_smiles = mapped_smiles_reader('cache/mapped_drugs/all_mapped.txt')\n",
    "x_train, y_train = candidate_smiles(all_candidates_train, mapped_smiles)\n",
    "x_test, y_test = candidate_smiles(all_candidates_test, mapped_smiles)\n",
    "dataset_train_mol = MolDataset(x_train, y_train)\n",
    "dataset_test_mol = MolDataset(x_test, y_test)"
   ]
  },
  {
   "cell_type": "markdown",
   "metadata": {},
   "source": [
    "## Training"
   ]
  },
  {
   "cell_type": "code",
   "execution_count": 7,
   "metadata": {},
   "outputs": [],
   "source": [
    "dataset_train = MultimodalDataset(dataset_train_text, dataset_train_mol)"
   ]
  },
  {
   "cell_type": "code",
   "execution_count": 19,
   "metadata": {},
   "outputs": [
    {
     "ename": "SyntaxError",
     "evalue": "unmatched ')' (1460969149.py, line 74)",
     "output_type": "error",
     "traceback": [
      "\u001b[0;36m  Cell \u001b[0;32mIn[19], line 74\u001b[0;36m\u001b[0m\n\u001b[0;31m    2*hidden_channels, out_features=target_class)\u001b[0m\n\u001b[0m                                                ^\u001b[0m\n\u001b[0;31mSyntaxError\u001b[0m\u001b[0;31m:\u001b[0m unmatched ')'\n"
     ]
    }
   ],
   "source": [
    "import torch\n",
    "import torch.nn\n",
    "import torch.nn.functional as F\n",
    "from torch_geometric.nn import GCNConv\n",
    "from torch_geometric.nn import global_mean_pool\n",
    "\n",
    "from src.seed import MANUAL_SEED\n",
    "from src.text.model.text_model import TextModel\n",
    "from src.mol.gcn import GCN\n",
    "\n",
    "class MultimodalModel(torch.nn.Module):\n",
    "    def __init__(self, \n",
    "                 we,\n",
    "                 dropout_rate: float = 0.5,\n",
    "                 word_embedding_size: int = 200,\n",
    "                 tag_number: int = 51,\n",
    "                 tag_embedding_size: int = 50,\n",
    "                 position_number: int = 4,\n",
    "                 position_embedding_size: int = 50,\n",
    "                 direction_number: int = 3,\n",
    "                 direction_embedding_size: int = 50,\n",
    "                 edge_number: int = 46,\n",
    "                 edge_embedding_size: int = 200,\n",
    "                 token_embedding_size: int = 500,\n",
    "                 dep_embedding_size: int = 500,\n",
    "                 conv1_out_channels: int = 256,\n",
    "                 conv2_out_channels: int = 256,\n",
    "                 conv3_out_channels: int = 256,\n",
    "                 conv1_length: int = 1,\n",
    "                 conv2_length: int = 2,\n",
    "                 conv3_length: int = 3,\n",
    "                 target_class: int = 5,\n",
    "                 num_node_features: int = 4, \n",
    "                 hidden_channels: int = 256,\n",
    "                 device: str = 'cpu'):\n",
    "        super(MultimodalModel, self).__init__()\n",
    "        torch.manual_seed(MANUAL_SEED)\n",
    "        self.device = device\n",
    "\n",
    "        self.text_model = TextModel(we=we,\n",
    "                                    dropout_rate=dropout_rate,\n",
    "                                    word_embedding_size=word_embedding_size,\n",
    "                                    tag_number=tag_number,\n",
    "                                    tag_embedding_size=tag_embedding_size,\n",
    "                                    position_number=position_number,\n",
    "                                    position_embedding_size=position_embedding_size,\n",
    "                                    direction_number=direction_number,\n",
    "                                    direction_embedding_size=direction_embedding_size,\n",
    "                                    edge_number=edge_number,\n",
    "                                    edge_embedding_size=edge_embedding_size,\n",
    "                                    token_embedding_size=token_embedding_size,\n",
    "                                    dep_embedding_size=dep_embedding_size,\n",
    "                                    conv1_out_channels=conv1_out_channels,\n",
    "                                    conv2_out_channels=conv2_out_channels,\n",
    "                                    conv3_out_channels=conv3_out_channels,\n",
    "                                    conv1_length=conv1_length,\n",
    "                                    conv2_length=conv2_length,\n",
    "                                    conv3_length=conv3_length,\n",
    "                                    target_class=target_class)\n",
    "\n",
    "        self.gcn1 = GCN(num_node_features=num_node_features,\n",
    "                       hidden_channels=hidden_channels,\n",
    "                       dropout_rate=dropout_rate, \n",
    "                       device=device)\n",
    "        \n",
    "        self.gcn2 = GCN(num_node_features=num_node_features,\n",
    "                        hidden_channels=hidden_channels,\n",
    "                        dropout_rate=dropout_rate, \n",
    "                        device=device)\n",
    "\n",
    "        self.dense_to_tag = torch.nn.Linear(in_features=conv1_out_channels+conv2_out_channels+conv3_out_channels+2*hidden_channels, \n",
    "                                            out_features=target_class,\n",
    "                                            bias=False)\n",
    "\n",
    "    def forward(self, text_x, mol_x1, mol_x2):\n",
    "        text_x = self.text_model(text_x)\n",
    "        mol_x1 = self.gcn1(mol_x1)\n",
    "        mol_x2 = self.gcn2(mol_x2)\n",
    "\n",
    "        x = torch.cat((text_x, mol_x1, mol_x2), dim=1)\n",
    "\n",
    "        # Classifier\n",
    "        x = self.dense_to_tag(x)\n",
    "        x = self.softmax(x)\n",
    "\n",
    "        return x"
   ]
  },
  {
   "cell_type": "code",
   "execution_count": 20,
   "metadata": {},
   "outputs": [],
   "source": [
    "model = MultimodalModel(we)"
   ]
  },
  {
   "cell_type": "code",
   "execution_count": 15,
   "metadata": {},
   "outputs": [
    {
     "ename": "AttributeError",
     "evalue": "'MultimodalModel' object has no attribute 'dense_to_tag'",
     "output_type": "error",
     "traceback": [
      "\u001b[0;31m---------------------------------------------------------------------------\u001b[0m",
      "\u001b[0;31mAttributeError\u001b[0m                            Traceback (most recent call last)",
      "Cell \u001b[0;32mIn[15], line 1\u001b[0m\n\u001b[0;32m----> 1\u001b[0m \u001b[43mmodel\u001b[49m\u001b[43m(\u001b[49m\u001b[43mdataset_train\u001b[49m\u001b[43m[\u001b[49m\u001b[38;5;241;43m0\u001b[39;49m\u001b[43m]\u001b[49m\u001b[43m[\u001b[49m\u001b[38;5;241;43m0\u001b[39;49m\u001b[43m]\u001b[49m\u001b[43m[\u001b[49m\u001b[38;5;241;43m0\u001b[39;49m\u001b[43m]\u001b[49m\u001b[43m,\u001b[49m\u001b[43m \u001b[49m\u001b[43mdataset_train\u001b[49m\u001b[43m[\u001b[49m\u001b[38;5;241;43m0\u001b[39;49m\u001b[43m]\u001b[49m\u001b[43m[\u001b[49m\u001b[38;5;241;43m0\u001b[39;49m\u001b[43m]\u001b[49m\u001b[43m[\u001b[49m\u001b[38;5;241;43m1\u001b[39;49m\u001b[43m]\u001b[49m\u001b[43m[\u001b[49m\u001b[38;5;241;43m0\u001b[39;49m\u001b[43m]\u001b[49m\u001b[43m,\u001b[49m\u001b[43m \u001b[49m\u001b[43mdataset_train\u001b[49m\u001b[43m[\u001b[49m\u001b[38;5;241;43m0\u001b[39;49m\u001b[43m]\u001b[49m\u001b[43m[\u001b[49m\u001b[38;5;241;43m0\u001b[39;49m\u001b[43m]\u001b[49m\u001b[43m[\u001b[49m\u001b[38;5;241;43m1\u001b[39;49m\u001b[43m]\u001b[49m\u001b[43m[\u001b[49m\u001b[38;5;241;43m1\u001b[39;49m\u001b[43m]\u001b[49m\u001b[43m)\u001b[49m\n",
      "File \u001b[0;32m~/.local/lib/python3.10/site-packages/torch/nn/modules/module.py:1511\u001b[0m, in \u001b[0;36mModule._wrapped_call_impl\u001b[0;34m(self, *args, **kwargs)\u001b[0m\n\u001b[1;32m   1509\u001b[0m     \u001b[38;5;28;01mreturn\u001b[39;00m \u001b[38;5;28mself\u001b[39m\u001b[38;5;241m.\u001b[39m_compiled_call_impl(\u001b[38;5;241m*\u001b[39margs, \u001b[38;5;241m*\u001b[39m\u001b[38;5;241m*\u001b[39mkwargs)  \u001b[38;5;66;03m# type: ignore[misc]\u001b[39;00m\n\u001b[1;32m   1510\u001b[0m \u001b[38;5;28;01melse\u001b[39;00m:\n\u001b[0;32m-> 1511\u001b[0m     \u001b[38;5;28;01mreturn\u001b[39;00m \u001b[38;5;28;43mself\u001b[39;49m\u001b[38;5;241;43m.\u001b[39;49m\u001b[43m_call_impl\u001b[49m\u001b[43m(\u001b[49m\u001b[38;5;241;43m*\u001b[39;49m\u001b[43margs\u001b[49m\u001b[43m,\u001b[49m\u001b[43m \u001b[49m\u001b[38;5;241;43m*\u001b[39;49m\u001b[38;5;241;43m*\u001b[39;49m\u001b[43mkwargs\u001b[49m\u001b[43m)\u001b[49m\n",
      "File \u001b[0;32m~/.local/lib/python3.10/site-packages/torch/nn/modules/module.py:1520\u001b[0m, in \u001b[0;36mModule._call_impl\u001b[0;34m(self, *args, **kwargs)\u001b[0m\n\u001b[1;32m   1515\u001b[0m \u001b[38;5;66;03m# If we don't have any hooks, we want to skip the rest of the logic in\u001b[39;00m\n\u001b[1;32m   1516\u001b[0m \u001b[38;5;66;03m# this function, and just call forward.\u001b[39;00m\n\u001b[1;32m   1517\u001b[0m \u001b[38;5;28;01mif\u001b[39;00m \u001b[38;5;129;01mnot\u001b[39;00m (\u001b[38;5;28mself\u001b[39m\u001b[38;5;241m.\u001b[39m_backward_hooks \u001b[38;5;129;01mor\u001b[39;00m \u001b[38;5;28mself\u001b[39m\u001b[38;5;241m.\u001b[39m_backward_pre_hooks \u001b[38;5;129;01mor\u001b[39;00m \u001b[38;5;28mself\u001b[39m\u001b[38;5;241m.\u001b[39m_forward_hooks \u001b[38;5;129;01mor\u001b[39;00m \u001b[38;5;28mself\u001b[39m\u001b[38;5;241m.\u001b[39m_forward_pre_hooks\n\u001b[1;32m   1518\u001b[0m         \u001b[38;5;129;01mor\u001b[39;00m _global_backward_pre_hooks \u001b[38;5;129;01mor\u001b[39;00m _global_backward_hooks\n\u001b[1;32m   1519\u001b[0m         \u001b[38;5;129;01mor\u001b[39;00m _global_forward_hooks \u001b[38;5;129;01mor\u001b[39;00m _global_forward_pre_hooks):\n\u001b[0;32m-> 1520\u001b[0m     \u001b[38;5;28;01mreturn\u001b[39;00m \u001b[43mforward_call\u001b[49m\u001b[43m(\u001b[49m\u001b[38;5;241;43m*\u001b[39;49m\u001b[43margs\u001b[49m\u001b[43m,\u001b[49m\u001b[43m \u001b[49m\u001b[38;5;241;43m*\u001b[39;49m\u001b[38;5;241;43m*\u001b[39;49m\u001b[43mkwargs\u001b[49m\u001b[43m)\u001b[49m\n\u001b[1;32m   1522\u001b[0m \u001b[38;5;28;01mtry\u001b[39;00m:\n\u001b[1;32m   1523\u001b[0m     result \u001b[38;5;241m=\u001b[39m \u001b[38;5;28;01mNone\u001b[39;00m\n",
      "Cell \u001b[0;32mIn[13], line 79\u001b[0m, in \u001b[0;36mMultimodalModel.forward\u001b[0;34m(self, text_x, mol_x1, mol_x2)\u001b[0m\n\u001b[1;32m     76\u001b[0m x \u001b[38;5;241m=\u001b[39m torch\u001b[38;5;241m.\u001b[39mcat((text_x, mol_x1, mol_x2), dim\u001b[38;5;241m=\u001b[39m\u001b[38;5;241m1\u001b[39m)\n\u001b[1;32m     78\u001b[0m \u001b[38;5;66;03m# Classifier\u001b[39;00m\n\u001b[0;32m---> 79\u001b[0m x \u001b[38;5;241m=\u001b[39m \u001b[38;5;28;43mself\u001b[39;49m\u001b[38;5;241;43m.\u001b[39;49m\u001b[43mdense_to_tag\u001b[49m(x)\n\u001b[1;32m     80\u001b[0m x \u001b[38;5;241m=\u001b[39m \u001b[38;5;28mself\u001b[39m\u001b[38;5;241m.\u001b[39msoftmax(x)\n\u001b[1;32m     82\u001b[0m \u001b[38;5;28;01mreturn\u001b[39;00m x\n",
      "File \u001b[0;32m~/.local/lib/python3.10/site-packages/torch/nn/modules/module.py:1688\u001b[0m, in \u001b[0;36mModule.__getattr__\u001b[0;34m(self, name)\u001b[0m\n\u001b[1;32m   1686\u001b[0m     \u001b[38;5;28;01mif\u001b[39;00m name \u001b[38;5;129;01min\u001b[39;00m modules:\n\u001b[1;32m   1687\u001b[0m         \u001b[38;5;28;01mreturn\u001b[39;00m modules[name]\n\u001b[0;32m-> 1688\u001b[0m \u001b[38;5;28;01mraise\u001b[39;00m \u001b[38;5;167;01mAttributeError\u001b[39;00m(\u001b[38;5;124mf\u001b[39m\u001b[38;5;124m\"\u001b[39m\u001b[38;5;124m'\u001b[39m\u001b[38;5;132;01m{\u001b[39;00m\u001b[38;5;28mtype\u001b[39m(\u001b[38;5;28mself\u001b[39m)\u001b[38;5;241m.\u001b[39m\u001b[38;5;18m__name__\u001b[39m\u001b[38;5;132;01m}\u001b[39;00m\u001b[38;5;124m'\u001b[39m\u001b[38;5;124m object has no attribute \u001b[39m\u001b[38;5;124m'\u001b[39m\u001b[38;5;132;01m{\u001b[39;00mname\u001b[38;5;132;01m}\u001b[39;00m\u001b[38;5;124m'\u001b[39m\u001b[38;5;124m\"\u001b[39m)\n",
      "\u001b[0;31mAttributeError\u001b[0m: 'MultimodalModel' object has no attribute 'dense_to_tag'"
     ]
    }
   ],
   "source": [
    "model(dataset_train[0][0][0], dataset_train[0][0][1][0], dataset_train[0][0][1][1])"
   ]
  },
  {
   "cell_type": "code",
   "execution_count": 19,
   "metadata": {},
   "outputs": [
    {
     "data": {
      "text/plain": [
       "[Data(x=[101, 4], edge_index=[2, 212], edge_attr=[212, 2], mol=<rdkit.Chem.rdchem.Mol object at 0x7feeafdf2e30>, smiles='C[C@H](C(=O)N)NC(=O)[C@@H]1CCCN1C(=O)[C@H](CCCCNC(C)C)NC(=O)[C@H](CC(C)C)NC(=O)[C@@H](CC(=O)N)NC(=O)[C@H](CC2=CC=C(C=C2)O)N(C)C(=O)[C@H](CO)NC(=O)[C@@H](CC3=CN=CC=C3)NC(=O)[C@@H](CC4=CC=C(C=C4)Cl)NC(=O)[C@@H](CC5=CC6=CC=CC=C6C=C5)NC(=O)C'),\n",
       " Data(x=[21, 4], edge_index=[2, 48], edge_attr=[48, 2], mol=<rdkit.Chem.rdchem.Mol object at 0x7feeafdf2ff0>, smiles='C[C@]12CC[C@H]3[C@H]([C@@H]1CC[C@@H]2O)CCC4=CC(=O)CC[C@]34C')]"
      ]
     },
     "execution_count": 19,
     "metadata": {},
     "output_type": "execute_result"
    }
   ],
   "source": [
    "dataset_train[0][0][1]"
   ]
  },
  {
   "cell_type": "code",
   "execution_count": null,
   "metadata": {},
   "outputs": [],
   "source": []
  }
 ],
 "metadata": {
  "kernelspec": {
   "display_name": "Python 3",
   "language": "python",
   "name": "python3"
  },
  "language_info": {
   "codemirror_mode": {
    "name": "ipython",
    "version": 3
   },
   "file_extension": ".py",
   "mimetype": "text/x-python",
   "name": "python",
   "nbconvert_exporter": "python",
   "pygments_lexer": "ipython3",
   "version": "3.10.13"
  }
 },
 "nbformat": 4,
 "nbformat_minor": 2
}
