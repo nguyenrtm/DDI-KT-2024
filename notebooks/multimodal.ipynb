{
 "cells": [
  {
   "cell_type": "code",
   "execution_count": 2,
   "metadata": {},
   "outputs": [],
   "source": [
    "import os\n",
    "os.chdir('..')"
   ]
  },
  {
   "cell_type": "code",
   "execution_count": 3,
   "metadata": {},
   "outputs": [],
   "source": [
    "from src.multimodal.model import MultimodalModel\n",
    "from src.utils import get_lookup, load_pkl, get_labels\n",
    "from src.text.model.word_embedding import WordEmbedding\n",
    "from src.text.model.custom_dataset import CustomDataset\n",
    "from src.mol.preprocess import mapped_smiles_reader, candidate_smiles\n",
    "from src.mol.mol_dataset import MolDataset"
   ]
  },
  {
   "cell_type": "markdown",
   "metadata": {},
   "source": [
    "## Text"
   ]
  },
  {
   "cell_type": "code",
   "execution_count": 4,
   "metadata": {},
   "outputs": [],
   "source": [
    "lookup_word = get_lookup('cache/fasttext/nguyennb/all_words.txt')\n",
    "lookup_tag = get_lookup('cache/fasttext/nguyennb/all_pos.txt')\n",
    "lookup_dep = get_lookup('cache/fasttext/nguyennb/all_dep.txt')\n",
    "lookup_direction = get_lookup('cache/fasttext/nguyennb/all_direction.txt')\n",
    "\n",
    "all_candidates_train = load_pkl('cache/pkl/v1/candidates.train.pkl')\n",
    "all_candidates_test = load_pkl('cache/pkl/v1/candidates.test.pkl')\n",
    "sdp_train = load_pkl('cache/pkl/v1/sdp.train.pkl')\n",
    "sdp_test = load_pkl('cache/pkl/v1/sdp.test.pkl')\n",
    "sdp_train_mapped = load_pkl('cache/pkl/v1/train.mapped.sdp.pkl')\n",
    "sdp_test_mapped = load_pkl('cache/pkl/v1/test.mapped.sdp.pkl')\n",
    "we = WordEmbedding(fasttext_path='cache/fasttext/nguyennb/fastText_ddi.npz',\n",
    "                   vocab_path='cache/fasttext/nguyennb/all_words.txt')\n",
    "\n",
    "y_train = get_labels(all_candidates_train)\n",
    "y_test = get_labels(all_candidates_test)"
   ]
  },
  {
   "cell_type": "code",
   "execution_count": 5,
   "metadata": {},
   "outputs": [
    {
     "name": "stdout",
     "output_type": "stream",
     "text": [
      "WARNING: Exception at data 4942\n",
      "WARNING: Exception at data 27304\n",
      "WARNING: Exception at data 27533\n",
      "WARNING: Exception at data 5627\n"
     ]
    }
   ],
   "source": [
    "data_train = CustomDataset(sdp_train_mapped, y_train)\n",
    "data_train.fix_exception()\n",
    "data_train.batch_padding(batch_size=1)\n",
    "data_train.squeeze()\n",
    "data_test = CustomDataset(sdp_test_mapped, y_test)\n",
    "data_test.fix_exception()\n",
    "data_test.batch_padding(batch_size=1)\n",
    "data_test.squeeze()"
   ]
  },
  {
   "cell_type": "code",
   "execution_count": 6,
   "metadata": {},
   "outputs": [],
   "source": [
    "from torch.utils.data import DataLoader\n",
    "\n",
    "dataloader_train = DataLoader(data_train, batch_size=1)\n",
    "dataloader_test = DataLoader(data_test, batch_size=1)"
   ]
  },
  {
   "cell_type": "markdown",
   "metadata": {},
   "source": [
    "## Mol"
   ]
  },
  {
   "cell_type": "code",
   "execution_count": 7,
   "metadata": {},
   "outputs": [
    {
     "name": "stderr",
     "output_type": "stream",
     "text": [
      "Converting SMILES to PyG: 100%|██████████| 16626/16626 [00:38<00:00, 430.38it/s]\n",
      "Converting SMILES to PyG: 100%|██████████| 3374/3374 [00:08<00:00, 406.07it/s]\n"
     ]
    }
   ],
   "source": [
    "all_candidates_train = load_pkl('cache/pkl/v1/candidates.train.pkl')\n",
    "all_candidates_test = load_pkl('cache/pkl/v1/candidates.test.pkl')\n",
    "mapped_smiles = mapped_smiles_reader('cache/mapped_drugs/all_mapped.txt')\n",
    "x_train, y_train = candidate_smiles(all_candidates_train, mapped_smiles)\n",
    "x_test, y_test = candidate_smiles(all_candidates_test, mapped_smiles)\n",
    "dataset_train = MolDataset(x_train, y_train)\n",
    "dataset_test = MolDataset(x_test, y_test)"
   ]
  },
  {
   "cell_type": "markdown",
   "metadata": {},
   "source": [
    "## Training"
   ]
  },
  {
   "cell_type": "code",
   "execution_count": null,
   "metadata": {},
   "outputs": [],
   "source": []
  }
 ],
 "metadata": {
  "kernelspec": {
   "display_name": "Python 3",
   "language": "python",
   "name": "python3"
  },
  "language_info": {
   "codemirror_mode": {
    "name": "ipython",
    "version": 3
   },
   "file_extension": ".py",
   "mimetype": "text/x-python",
   "name": "python",
   "nbconvert_exporter": "python",
   "pygments_lexer": "ipython3",
   "version": "3.10.13"
  }
 },
 "nbformat": 4,
 "nbformat_minor": 2
}
