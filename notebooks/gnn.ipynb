{
 "cells": [
  {
   "cell_type": "code",
   "execution_count": 1,
   "metadata": {},
   "outputs": [],
   "source": [
    "import os\n",
    "os.chdir('..')"
   ]
  },
  {
   "cell_type": "code",
   "execution_count": 4,
   "metadata": {},
   "outputs": [
    {
     "name": "stderr",
     "output_type": "stream",
     "text": [
      "2024-03-11 22:01:52,874 - INFO - Enabling RDKit 2023.09.5 jupyter extensions\n"
     ]
    }
   ],
   "source": [
    "from ddi_kt_2024.mol.gnn import GNN\n",
    "from ddi_kt_2024.utils import load_pkl\n",
    "from ddi_kt_2024.mol.preprocess import mapped_smiles_reader, candidate_smiles\n",
    "from ddi_kt_2024.mol.mol_dataset import MolDataset"
   ]
  },
  {
   "cell_type": "code",
   "execution_count": 130,
   "metadata": {},
   "outputs": [
    {
     "name": "stderr",
     "output_type": "stream",
     "text": [
      "Converting SMILES to PyG: 100%|██████████| 5716/5716 [00:04<00:00, 1299.83it/s]\n",
      "Converting SMILES to PyG: 100%|██████████| 5716/5716 [00:04<00:00, 1270.82it/s]\n"
     ]
    }
   ],
   "source": [
    "all_candidates_train = load_pkl('cache/pkl/v1/candidates.train.pkl')\n",
    "all_candidates_test = load_pkl('cache/pkl/v1/candidates.test.pkl')\n",
    "mapped_smiles = mapped_smiles_reader('cache/mapped_drugs/DDI/all_mapped.txt')\n",
    "x_train, y_train = candidate_smiles(all_candidates_train, mapped_smiles)\n",
    "x_test, y_test = candidate_smiles(all_candidates_test, mapped_smiles)\n",
    "# dataset_train_mol1 = MolDataset(x_train, element=1)\n",
    "# dataset_train_mol2 = MolDataset(x_train, element=2)\n",
    "dataset_test_mol1 = MolDataset(x_test, element=1)\n",
    "dataset_test_mol2 = MolDataset(x_test, element=2)"
   ]
  },
  {
   "cell_type": "code",
   "execution_count": 135,
   "metadata": {},
   "outputs": [],
   "source": [
    "from torch_geometric.loader import DataLoader\n",
    "test_loader_mol1 = DataLoader(dataset_test_mol1, batch_size=128, shuffle=False)\n",
    "test_loader_mol2 = DataLoader(dataset_test_mol2, batch_size=128, shuffle=False)"
   ]
  },
  {
   "cell_type": "code",
   "execution_count": 27,
   "metadata": {},
   "outputs": [
    {
     "data": {
      "text/plain": [
       "Data(x=[15, 10], edge_index=[2, 32], edge_attr=[32, 4], mol=<rdkit.Chem.rdchem.Mol object at 0x000001BE836D2810>, smiles='C1[C@H](O[C@H](S1)CO)N2C=CC(=NC2=O)N')"
      ]
     },
     "execution_count": 27,
     "metadata": {},
     "output_type": "execute_result"
    }
   ],
   "source": [
    "mol = dataset_test_mol2[0]\n",
    "mol"
   ]
  },
  {
   "cell_type": "code",
   "execution_count": 154,
   "metadata": {},
   "outputs": [],
   "source": [
    "model = GNN(gnn_option='GCNCONV', readout_option='softmax')"
   ]
  },
  {
   "cell_type": "code",
   "execution_count": null,
   "metadata": {},
   "outputs": [],
   "source": []
  }
 ],
 "metadata": {
  "kernelspec": {
   "display_name": "Python 3",
   "language": "python",
   "name": "python3"
  },
  "language_info": {
   "codemirror_mode": {
    "name": "ipython",
    "version": 3
   },
   "file_extension": ".py",
   "mimetype": "text/x-python",
   "name": "python",
   "nbconvert_exporter": "python",
   "pygments_lexer": "ipython3",
   "version": "3.11.3"
  }
 },
 "nbformat": 4,
 "nbformat_minor": 2
}
