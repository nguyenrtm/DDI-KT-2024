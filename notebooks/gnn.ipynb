{
 "cells": [
  {
   "cell_type": "code",
   "execution_count": 1,
   "metadata": {},
   "outputs": [],
   "source": [
    "import os\n",
    "os.chdir('..')"
   ]
  },
  {
   "cell_type": "code",
   "execution_count": 6,
   "metadata": {},
   "outputs": [
    {
     "name": "stderr",
     "output_type": "stream",
     "text": [
      "2024-03-05 01:18:37,959 - INFO - Enabling RDKit 2023.09.5 jupyter extensions\n"
     ]
    }
   ],
   "source": [
    "from ddi_kt_2024.mol.gnn import GNN\n",
    "from ddi_kt_2024.utils import load_pkl\n",
    "from ddi_kt_2024.mol.preprocess import mapped_smiles_reader, candidate_smiles\n",
    "from ddi_kt_2024.mol.mol_dataset import MolDataset"
   ]
  },
  {
   "cell_type": "code",
   "execution_count": 7,
   "metadata": {},
   "outputs": [
    {
     "name": "stderr",
     "output_type": "stream",
     "text": [
      "Converting SMILES to PyG: 100%|██████████| 5716/5716 [00:03<00:00, 1555.80it/s]\n"
     ]
    }
   ],
   "source": [
    "all_candidates_train = load_pkl('cache/pkl/v1/candidates.train.pkl')\n",
    "all_candidates_test = load_pkl('cache/pkl/v1/candidates.test.pkl')\n",
    "mapped_smiles = mapped_smiles_reader('cache/mapped_drugs/DDI/all_mapped.txt')\n",
    "x_train, y_train = candidate_smiles(all_candidates_train, mapped_smiles)\n",
    "x_test, y_test = candidate_smiles(all_candidates_test, mapped_smiles)\n",
    "# dataset_train_mol1 = MolDataset(x_train, element=1)\n",
    "# dataset_train_mol2 = MolDataset(x_train, element=2)\n",
    "# dataset_test_mol1 = MolDataset(x_test, element=1)\n",
    "dataset_test_mol2 = MolDataset(x_test, element=2)"
   ]
  },
  {
   "cell_type": "code",
   "execution_count": 40,
   "metadata": {},
   "outputs": [
    {
     "name": "stdout",
     "output_type": "stream",
     "text": [
      "GNN(\n",
      "  (atom_encoder): Embedding(119, 64, padding_idx=0)\n",
      "  (bond_encoder): Embedding(22, 16, padding_idx=0)\n",
      "  (boolean_encoder): Embedding(3, 2, padding_idx=2)\n",
      "  (conv1): GATv2Conv(74, 512, heads=1)\n",
      "  (conv2): GATv2Conv(512, 512, heads=1)\n",
      "  (conv3): GATv2Conv(512, 512, heads=1)\n",
      "  (conv4): GATv2Conv(512, 512, heads=1)\n",
      ")\n"
     ]
    }
   ],
   "source": [
    "import torch\n",
    "import torch.nn as nn\n",
    "import torch.nn.functional as F\n",
    "from torch_geometric.nn import GATv2Conv\n",
    "from torch_geometric.nn import global_mean_pool\n",
    "\n",
    "class GNN(torch.nn.Module):\n",
    "    def __init__(self, \n",
    "                 atom_embedding_dim: int = 64,\n",
    "                 bond_embedding_dim: int = 16,\n",
    "                 bool_embedding_dim: int = 2,\n",
    "                 num_node_features: int = 10,\n",
    "                 num_edge_features: int = 4,\n",
    "                 hidden_channels: int = 512, \n",
    "                 dropout_rate: float = 0.2,\n",
    "                 device: str = 'cpu'):\n",
    "        \n",
    "        super(GNN, self).__init__()\n",
    "        self.device = device\n",
    "        self.dropout = dropout_rate\n",
    "        self.hidden_channels = hidden_channels\n",
    "\n",
    "        self.atom_encoder = nn.Embedding(num_embeddings=119, embedding_dim=atom_embedding_dim, padding_idx=0)\n",
    "        self.bond_encoder = nn.Embedding(num_embeddings=22, embedding_dim=bond_embedding_dim, padding_idx=0)\n",
    "        self.boolean_encoder = nn.Embedding(num_embeddings=3, embedding_dim=bool_embedding_dim, padding_idx=2)\n",
    "\n",
    "        self.conv1 = GATv2Conv(num_node_features-2+atom_embedding_dim+bool_embedding_dim, \n",
    "                               hidden_channels,\n",
    "                               edge_dim=num_edge_features-3+bond_embedding_dim+bool_embedding_dim*2)\n",
    "        \n",
    "        self.conv2 = GATv2Conv(hidden_channels, \n",
    "                               hidden_channels,\n",
    "                               edge_dim=num_edge_features-3+bond_embedding_dim+bool_embedding_dim*2)\n",
    "        \n",
    "        self.conv3 = GATv2Conv(hidden_channels, \n",
    "                               hidden_channels,\n",
    "                               edge_dim=num_edge_features-3+bond_embedding_dim+bool_embedding_dim*2)\n",
    "        \n",
    "        self.conv4 = GATv2Conv(hidden_channels, \n",
    "                               hidden_channels,\n",
    "                               edge_dim=num_edge_features-3+bond_embedding_dim+bool_embedding_dim*2)\n",
    "\n",
    "    def forward(self, mol):\n",
    "        if mol.mol == 'None':\n",
    "            return torch.zeros([1, self.hidden_channels]).to(self.device)\n",
    "        \n",
    "        x, edge_index, edge_attr, batch = mol.x, mol.edge_index, mol.edge_attr, mol.batch\n",
    "        print(x, edge_index, edge_attr, batch)\n",
    "\n",
    "        atomic_num0 = self.atom_encoder(x[:, 0].int()) # encode atom type\n",
    "        atom_is_aromatic0 = self.boolean_encoder(x[:, -1].int()) # encode aromaticity\n",
    "\n",
    "        bond_type0 = self.bond_encoder(edge_attr[:, 0].int()) # encode bond type\n",
    "        bond_is_conjugated0 = self.boolean_encoder(edge_attr[:, -2].int()) # encode conjugation\n",
    "        bond_is_aromatic0 = self.boolean_encoder(edge_attr[:, -1].int()) # encode aromaticity\n",
    "\n",
    "        x = torch.cat([atomic_num0, x[:, 1:9], atom_is_aromatic0], dim=1)\n",
    "        edge_attr = torch.cat([bond_type0, edge_attr[:, 1:2], bond_is_conjugated0, bond_is_aromatic0], dim=1)\n",
    "\n",
    "        # GNN pass\n",
    "        x = self.conv1(x, edge_index, edge_attr)\n",
    "        x = F.relu(x)\n",
    "        x = F.dropout(x, p=self.dropout, training=self.training)\n",
    "        x = self.conv2(x, edge_index, edge_attr)\n",
    "        x = F.relu(x)\n",
    "        x = F.dropout(x, p=self.dropout, training=self.training)\n",
    "        x = self.conv3(x, edge_index, edge_attr)\n",
    "        x = F.relu(x)\n",
    "        x = F.dropout(x, p=self.dropout, training=self.training)\n",
    "        x = self.conv4(x, edge_index, edge_attr)\n",
    "        x = F.relu(x)\n",
    "        x = F.dropout(x, p=self.dropout, training=self.training)\n",
    "\n",
    "        x = global_mean_pool(x, batch)\n",
    "        \n",
    "        return x\n",
    "\n",
    "model = GNN()\n",
    "print(model)"
   ]
  },
  {
   "cell_type": "code",
   "execution_count": 41,
   "metadata": {},
   "outputs": [
    {
     "data": {
      "text/plain": [
       "Data(x=[1, 10], edge_index=[2, 2], edge_attr=[2, 4], mol='None', smiles='None')"
      ]
     },
     "execution_count": 41,
     "metadata": {},
     "output_type": "execute_result"
    }
   ],
   "source": [
    "mol = dataset_test_mol2[121]\n",
    "mol"
   ]
  },
  {
   "cell_type": "code",
   "execution_count": 42,
   "metadata": {},
   "outputs": [
    {
     "data": {
      "text/plain": [
       "tensor([[0., 0., 0., 0., 0., 0., 0., 0., 0., 0., 0., 0., 0., 0., 0., 0., 0., 0., 0., 0., 0., 0., 0., 0.,\n",
       "         0., 0., 0., 0., 0., 0., 0., 0., 0., 0., 0., 0., 0., 0., 0., 0., 0., 0., 0., 0., 0., 0., 0., 0.,\n",
       "         0., 0., 0., 0., 0., 0., 0., 0., 0., 0., 0., 0., 0., 0., 0., 0., 0., 0., 0., 0., 0., 0., 0., 0.,\n",
       "         0., 0., 0., 0., 0., 0., 0., 0., 0., 0., 0., 0., 0., 0., 0., 0., 0., 0., 0., 0., 0., 0., 0., 0.,\n",
       "         0., 0., 0., 0., 0., 0., 0., 0., 0., 0., 0., 0., 0., 0., 0., 0., 0., 0., 0., 0., 0., 0., 0., 0.,\n",
       "         0., 0., 0., 0., 0., 0., 0., 0., 0., 0., 0., 0., 0., 0., 0., 0., 0., 0., 0., 0., 0., 0., 0., 0.,\n",
       "         0., 0., 0., 0., 0., 0., 0., 0., 0., 0., 0., 0., 0., 0., 0., 0., 0., 0., 0., 0., 0., 0., 0., 0.,\n",
       "         0., 0., 0., 0., 0., 0., 0., 0., 0., 0., 0., 0., 0., 0., 0., 0., 0., 0., 0., 0., 0., 0., 0., 0.,\n",
       "         0., 0., 0., 0., 0., 0., 0., 0., 0., 0., 0., 0., 0., 0., 0., 0., 0., 0., 0., 0., 0., 0., 0., 0.,\n",
       "         0., 0., 0., 0., 0., 0., 0., 0., 0., 0., 0., 0., 0., 0., 0., 0., 0., 0., 0., 0., 0., 0., 0., 0.,\n",
       "         0., 0., 0., 0., 0., 0., 0., 0., 0., 0., 0., 0., 0., 0., 0., 0., 0., 0., 0., 0., 0., 0., 0., 0.,\n",
       "         0., 0., 0., 0., 0., 0., 0., 0., 0., 0., 0., 0., 0., 0., 0., 0., 0., 0., 0., 0., 0., 0., 0., 0.,\n",
       "         0., 0., 0., 0., 0., 0., 0., 0., 0., 0., 0., 0., 0., 0., 0., 0., 0., 0., 0., 0., 0., 0., 0., 0.,\n",
       "         0., 0., 0., 0., 0., 0., 0., 0., 0., 0., 0., 0., 0., 0., 0., 0., 0., 0., 0., 0., 0., 0., 0., 0.,\n",
       "         0., 0., 0., 0., 0., 0., 0., 0., 0., 0., 0., 0., 0., 0., 0., 0., 0., 0., 0., 0., 0., 0., 0., 0.,\n",
       "         0., 0., 0., 0., 0., 0., 0., 0., 0., 0., 0., 0., 0., 0., 0., 0., 0., 0., 0., 0., 0., 0., 0., 0.,\n",
       "         0., 0., 0., 0., 0., 0., 0., 0., 0., 0., 0., 0., 0., 0., 0., 0., 0., 0., 0., 0., 0., 0., 0., 0.,\n",
       "         0., 0., 0., 0., 0., 0., 0., 0., 0., 0., 0., 0., 0., 0., 0., 0., 0., 0., 0., 0., 0., 0., 0., 0.,\n",
       "         0., 0., 0., 0., 0., 0., 0., 0., 0., 0., 0., 0., 0., 0., 0., 0., 0., 0., 0., 0., 0., 0., 0., 0.,\n",
       "         0., 0., 0., 0., 0., 0., 0., 0., 0., 0., 0., 0., 0., 0., 0., 0., 0., 0., 0., 0., 0., 0., 0., 0.,\n",
       "         0., 0., 0., 0., 0., 0., 0., 0., 0., 0., 0., 0., 0., 0., 0., 0., 0., 0., 0., 0., 0., 0., 0., 0.,\n",
       "         0., 0., 0., 0., 0., 0., 0., 0.]])"
      ]
     },
     "execution_count": 42,
     "metadata": {},
     "output_type": "execute_result"
    }
   ],
   "source": [
    "model(mol)"
   ]
  },
  {
   "cell_type": "code",
   "execution_count": null,
   "metadata": {},
   "outputs": [],
   "source": []
  }
 ],
 "metadata": {
  "kernelspec": {
   "display_name": "Python 3",
   "language": "python",
   "name": "python3"
  },
  "language_info": {
   "codemirror_mode": {
    "name": "ipython",
    "version": 3
   },
   "file_extension": ".py",
   "mimetype": "text/x-python",
   "name": "python",
   "nbconvert_exporter": "python",
   "pygments_lexer": "ipython3",
   "version": "3.10.13"
  }
 },
 "nbformat": 4,
 "nbformat_minor": 2
}
