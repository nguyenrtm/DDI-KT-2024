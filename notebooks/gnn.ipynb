{
 "cells": [
  {
   "cell_type": "code",
   "execution_count": 1,
   "metadata": {},
   "outputs": [],
   "source": [
    "import os\n",
    "os.chdir('..')"
   ]
  },
  {
   "cell_type": "code",
   "execution_count": 2,
   "metadata": {},
   "outputs": [
    {
     "name": "stderr",
     "output_type": "stream",
     "text": [
      "/home/codespace/.python/current/lib/python3.10/site-packages/tqdm/auto.py:21: TqdmWarning: IProgress not found. Please update jupyter and ipywidgets. See https://ipywidgets.readthedocs.io/en/stable/user_install.html\n",
      "  from .autonotebook import tqdm as notebook_tqdm\n",
      "2024-03-05 10:10:15,412 - INFO - Enabling RDKit 2023.09.5 jupyter extensions\n"
     ]
    }
   ],
   "source": [
    "from ddi_kt_2024.mol.gnn import GNN\n",
    "from ddi_kt_2024.utils import load_pkl\n",
    "from ddi_kt_2024.mol.preprocess import mapped_smiles_reader, candidate_smiles\n",
    "from ddi_kt_2024.mol.mol_dataset import MolDataset"
   ]
  },
  {
   "cell_type": "code",
   "execution_count": 3,
   "metadata": {},
   "outputs": [
    {
     "name": "stderr",
     "output_type": "stream",
     "text": [
      "Converting SMILES to PyG: 100%|██████████| 5716/5716 [00:04<00:00, 1359.41it/s]\n"
     ]
    }
   ],
   "source": [
    "all_candidates_train = load_pkl('cache/pkl/v1/candidates.train.pkl')\n",
    "all_candidates_test = load_pkl('cache/pkl/v1/candidates.test.pkl')\n",
    "mapped_smiles = mapped_smiles_reader('cache/mapped_drugs/DDI/all_mapped.txt')\n",
    "x_train, y_train = candidate_smiles(all_candidates_train, mapped_smiles)\n",
    "x_test, y_test = candidate_smiles(all_candidates_test, mapped_smiles)\n",
    "# dataset_train_mol1 = MolDataset(x_train, element=1)\n",
    "# dataset_train_mol2 = MolDataset(x_train, element=2)\n",
    "# dataset_test_mol1 = MolDataset(x_test, element=1)\n",
    "dataset_test_mol2 = MolDataset(x_test, element=2)"
   ]
  },
  {
   "cell_type": "code",
   "execution_count": 22,
   "metadata": {},
   "outputs": [],
   "source": [
    "from torch_geometric.loader import DataLoader\n",
    "test_loader_mol2 = DataLoader(dataset_test_mol2, batch_size=128, shuffle=False)"
   ]
  },
  {
   "cell_type": "code",
   "execution_count": 23,
   "metadata": {},
   "outputs": [],
   "source": [
    "import torch\n",
    "import torch.nn as nn\n",
    "import torch.nn.functional as F\n",
    "from torch_geometric.nn import GATv2Conv, GCNConv\n",
    "from torch_geometric.nn.models import AttentiveFP\n",
    "from torch_geometric.nn import global_mean_pool\n",
    "\n",
    "class GNN(torch.nn.Module):\n",
    "    def __init__(self, \n",
    "                 atom_embedding_dim: int = 64,\n",
    "                 bond_embedding_dim: int = 16,\n",
    "                 bool_embedding_dim: int = 2,\n",
    "                 num_node_features: int = 10,\n",
    "                 num_edge_features: int = 4,\n",
    "                 hidden_channels: int = 512, \n",
    "                 dropout_rate: float = 0.2,\n",
    "                 gnn_option: str = 'GATV2CONV',\n",
    "                 device: str = 'cpu'):\n",
    "        \n",
    "        super(GNN, self).__init__()\n",
    "        self.device = device\n",
    "        self.dropout = dropout_rate\n",
    "        self.hidden_channels = hidden_channels\n",
    "\n",
    "        self.atom_encoder = nn.Embedding(num_embeddings=119, embedding_dim=atom_embedding_dim, padding_idx=0)\n",
    "        self.bond_encoder = nn.Embedding(num_embeddings=22, embedding_dim=bond_embedding_dim, padding_idx=0)\n",
    "        self.boolean_encoder = nn.Embedding(num_embeddings=3, embedding_dim=bool_embedding_dim, padding_idx=2)\n",
    "        self.gnn_option = gnn_option\n",
    "\n",
    "        if gnn_option == 'GATV2CONV':\n",
    "            self.conv1 = GATv2Conv(num_node_features-2+atom_embedding_dim+bool_embedding_dim, \n",
    "                                   hidden_channels*4,\n",
    "                                   edge_dim=num_edge_features-3+bond_embedding_dim+bool_embedding_dim*2)\n",
    "            self.conv2 = GATv2Conv(hidden_channels*4, \n",
    "                                   hidden_channels*2,\n",
    "                                   edge_dim=num_edge_features-3+bond_embedding_dim+bool_embedding_dim*2)\n",
    "            self.conv3 = GATv2Conv(hidden_channels*2, \n",
    "                                   hidden_channels,\n",
    "                                   edge_dim=num_edge_features-3+bond_embedding_dim+bool_embedding_dim*2)\n",
    "            self.conv4 = GATv2Conv(hidden_channels, \n",
    "                                   hidden_channels,\n",
    "                                   edge_dim=num_edge_features-3+bond_embedding_dim+bool_embedding_dim*2)\n",
    "        elif gnn_option == 'GCNCONV':\n",
    "            self.conv1 = GCNConv(num_node_features-2+atom_embedding_dim+bool_embedding_dim, \n",
    "                                hidden_channels*4)\n",
    "            self.conv2 = GCNConv(hidden_channels*4, \n",
    "                                hidden_channels*2)\n",
    "            self.conv3 = GCNConv(hidden_channels*2, \n",
    "                                hidden_channels)\n",
    "            self.conv4 = GCNConv(hidden_channels, \n",
    "                                hidden_channels)\n",
    "        elif gnn_option == 'ATTENTIVEFP':\n",
    "            self.conv1 = AttentiveFP(in_channels=num_node_features-2+atom_embedding_dim+bool_embedding_dim,\n",
    "                                     hidden_channels=hidden_channels,\n",
    "                                     out_channels=hidden_channels,\n",
    "                                     edge_dim=num_edge_features-3+bond_embedding_dim+bool_embedding_dim*2,\n",
    "                                     num_layers=4,\n",
    "                                     num_timesteps=2,\n",
    "                                     dropout=self.dropout)\n",
    "\n",
    "    def forward(self, mol):\n",
    "        if mol.mol == None:\n",
    "            return torch.zeros([1, self.hidden_channels]).to(self.device)\n",
    "        \n",
    "        x, edge_index, edge_attr, batch = mol.x, mol.edge_index, mol.edge_attr, mol.batch\n",
    "\n",
    "        atomic_num0 = self.atom_encoder(x[:, 0].int()) # encode atom type\n",
    "        atom_is_aromatic0 = self.boolean_encoder(x[:, -1].int()) # encode aromaticity\n",
    "\n",
    "        bond_type0 = self.bond_encoder(edge_attr[:, 0].int()) # encode bond type\n",
    "        bond_is_conjugated0 = self.boolean_encoder(edge_attr[:, -2].int()) # encode conjugation\n",
    "        bond_is_aromatic0 = self.boolean_encoder(edge_attr[:, -1].int()) # encode aromaticity\n",
    "\n",
    "        x = torch.cat([atomic_num0, x[:, 1:9], atom_is_aromatic0], dim=1)\n",
    "        edge_attr = torch.cat([bond_type0, edge_attr[:, 1:2], bond_is_conjugated0, bond_is_aromatic0], dim=1)\n",
    "        \n",
    "        # GNN pass\n",
    "        if self.gnn_option == 'ATTENTIVEFP':\n",
    "            x = self.conv1(x, edge_index, edge_attr, batch)\n",
    "        elif self.gnn_option == 'GATV2CONV':\n",
    "            x = F.relu(self.conv1(x, edge_index, edge_attr))\n",
    "            x = F.dropout(x, p=self.dropout, training=self.training)\n",
    "            x = F.relu(self.conv2(x, edge_index, edge_attr))\n",
    "            x = F.dropout(x, p=self.dropout, training=self.training)\n",
    "            x = F.relu(self.conv3(x, edge_index, edge_attr))\n",
    "            x = F.dropout(x, p=self.dropout, training=self.training)\n",
    "            x = F.relu(self.conv4(x, edge_index, edge_attr))\n",
    "            x = global_mean_pool(x, batch)\n",
    "        elif self.gnn_option == 'GCNCONV':\n",
    "            x = F.relu(self.conv1(x, edge_index))\n",
    "            x = F.dropout(x, p=self.dropout, training=self.training)\n",
    "            x = F.relu(self.conv2(x, edge_index))\n",
    "            x = F.dropout(x, p=self.dropout, training=self.training)\n",
    "            x = F.relu(self.conv3(x, edge_index))\n",
    "            x = F.dropout(x, p=self.dropout, training=self.training)\n",
    "            x = F.relu(self.conv4(x, edge_index))\n",
    "            x = global_mean_pool(x, batch)\n",
    "        \n",
    "        return x"
   ]
  },
  {
   "cell_type": "code",
   "execution_count": 28,
   "metadata": {},
   "outputs": [],
   "source": [
    "model = GNN(gnn_option='GCNCONV')"
   ]
  },
  {
   "cell_type": "code",
   "execution_count": 29,
   "metadata": {},
   "outputs": [
    {
     "data": {
      "text/plain": [
       "Data(x=[15, 10], edge_index=[2, 32], edge_attr=[32, 4], mol=<rdkit.Chem.rdchem.Mol object at 0x7f26d8f68120>, smiles='C1[C@H](O[C@H](S1)CO)N2C=CC(=NC2=O)N')"
      ]
     },
     "execution_count": 29,
     "metadata": {},
     "output_type": "execute_result"
    }
   ],
   "source": [
    "mol = dataset_test_mol2[0]\n",
    "mol"
   ]
  },
  {
   "cell_type": "code",
   "execution_count": 30,
   "metadata": {},
   "outputs": [
    {
     "name": "stdout",
     "output_type": "stream",
     "text": [
      "torch.Size([128, 512])\n"
     ]
    }
   ],
   "source": [
    "for mol in test_loader_mol2:\n",
    "    print(model(mol).shape)\n",
    "    break"
   ]
  },
  {
   "cell_type": "code",
   "execution_count": null,
   "metadata": {},
   "outputs": [],
   "source": []
  }
 ],
 "metadata": {
  "kernelspec": {
   "display_name": "Python 3",
   "language": "python",
   "name": "python3"
  },
  "language_info": {
   "codemirror_mode": {
    "name": "ipython",
    "version": 3
   },
   "file_extension": ".py",
   "mimetype": "text/x-python",
   "name": "python",
   "nbconvert_exporter": "python",
   "pygments_lexer": "ipython3",
   "version": "3.10.13"
  }
 },
 "nbformat": 4,
 "nbformat_minor": 2
}
